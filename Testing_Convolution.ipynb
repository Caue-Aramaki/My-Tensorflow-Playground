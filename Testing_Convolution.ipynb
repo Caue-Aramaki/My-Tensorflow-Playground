{
  "nbformat": 4,
  "nbformat_minor": 0,
  "metadata": {
    "colab": {
      "name": "Testing Convolution",
      "provenance": [],
      "collapsed_sections": [],
      "authorship_tag": "ABX9TyOJAMh8fGYlhZBgNJdoBRBT",
      "include_colab_link": true
    },
    "kernelspec": {
      "name": "python3",
      "display_name": "Python 3"
    },
    "language_info": {
      "name": "python"
    }
  },
  "cells": [
    {
      "cell_type": "markdown",
      "metadata": {
        "id": "view-in-github",
        "colab_type": "text"
      },
      "source": [
        "<a href=\"https://colab.research.google.com/github/Caue-Aramaki/My-Tensorflow-Playground/blob/main/Testing_Convolution.ipynb\" target=\"_parent\"><img src=\"https://colab.research.google.com/assets/colab-badge.svg\" alt=\"Open In Colab\"/></a>"
      ]
    },
    {
      "cell_type": "code",
      "metadata": {
        "colab": {
          "base_uri": "https://localhost:8080/"
        },
        "id": "S6XLtIdp3jES",
        "outputId": "acd161b8-fc6f-4dc5-f5af-634af69459ec"
      },
      "source": [
        "import tensorflow as tf\n",
        "\n",
        "print(tf.__version__)"
      ],
      "execution_count": 1,
      "outputs": [
        {
          "output_type": "stream",
          "text": [
            "2.5.0\n"
          ],
          "name": "stdout"
        }
      ]
    },
    {
      "cell_type": "code",
      "metadata": {
        "colab": {
          "base_uri": "https://localhost:8080/"
        },
        "id": "mvYBvaTg3-BK",
        "outputId": "3096d1f9-6621-4176-da84-f31341bc9042"
      },
      "source": [
        "from tensorflow.keras.datasets import mnist\n",
        "\n",
        "(train_data, train_labels), (test_data, test_labels) = mnist.load_data()"
      ],
      "execution_count": 2,
      "outputs": [
        {
          "output_type": "stream",
          "text": [
            "Downloading data from https://storage.googleapis.com/tensorflow/tf-keras-datasets/mnist.npz\n",
            "11493376/11490434 [==============================] - 0s 0us/step\n"
          ],
          "name": "stdout"
        }
      ]
    },
    {
      "cell_type": "code",
      "metadata": {
        "colab": {
          "base_uri": "https://localhost:8080/"
        },
        "id": "qHALDko6vwPp",
        "outputId": "abded225-3321-47cd-b44b-fd28c7104942"
      },
      "source": [
        "train_data.shape, train_labels.shape, test_data.shape, test_labels.shape"
      ],
      "execution_count": 3,
      "outputs": [
        {
          "output_type": "execute_result",
          "data": {
            "text/plain": [
              "((60000, 28, 28), (60000,), (10000, 28, 28), (10000,))"
            ]
          },
          "metadata": {
            "tags": []
          },
          "execution_count": 3
        }
      ]
    },
    {
      "cell_type": "code",
      "metadata": {
        "id": "-_HGWEFy3-rd",
        "colab": {
          "base_uri": "https://localhost:8080/",
          "height": 258
        },
        "outputId": "aeab9d38-c1f0-49c4-8385-11522c7312eb"
      },
      "source": [
        "from PIL import Image\n",
        "import numpy as np\n",
        "\n",
        "img = Image.fromarray(np.array(train_data[0]))\n",
        "\n",
        "img = img.resize(size=(img.size[0]*8, img.size[1]*8), resample=Image.BICUBIC)\n",
        "\n",
        "display(img), train_labels[0]"
      ],
      "execution_count": 4,
      "outputs": [
        {
          "output_type": "display_data",
          "data": {
            "image/png": "[encoded data removed]",
            "text/plain": [
              "<PIL.Image.Image image mode=L size=224x224 at 0x7FC32D49AC90>"
            ]
          },
          "metadata": {
            "tags": []
          }
        },
        {
          "output_type": "execute_result",
          "data": {
            "text/plain": [
              "(None, 5)"
            ]
          },
          "metadata": {
            "tags": []
          },
          "execution_count": 4
        }
      ]
    },
    {
      "cell_type": "code",
      "metadata": {
        "id": "temnpeATxe-R"
      },
      "source": [
        "# Normalize our data\n",
        "\n",
        "norm_train_data = train_data / 255\n",
        "norm_test_data = test_data / 255"
      ],
      "execution_count": 5,
      "outputs": []
    },
    {
      "cell_type": "code",
      "metadata": {
        "colab": {
          "base_uri": "https://localhost:8080/"
        },
        "id": "yEGu2tneyD5V",
        "outputId": "a1a14c20-ae29-4d1e-9d13-2cd78a05f8c3"
      },
      "source": [
        "tf.random.set_seed(42)\n",
        "\n",
        "# Model, but no convolutions\n",
        "\n",
        "raw_model = tf.keras.Sequential([\n",
        "                             \n",
        "  tf.keras.layers.Flatten(input_shape=(28, 28)),\n",
        "  # tf.keras.layers.Conv2D(2, 2),\n",
        "  tf.keras.layers.Dense(4, activation='relu'),\n",
        "  tf.keras.layers.Dense(4, activation='relu'),\n",
        "  tf.keras.layers.Dense(10, activation=\"softmax\")\n",
        "\n",
        "])\n",
        "\n",
        "# Compile the model \n",
        "raw_model.compile(loss=tf.keras.losses.SparseCategoricalCrossentropy(),\n",
        "                 optimizer=tf.keras.optimizers.Adam(),\n",
        "                 metrics=[\"accuracy\"])\n",
        "\n",
        "# Learning Scheduler\n",
        "\n",
        "epoch_amount = 10\n",
        "\n",
        "def custom_schedule(epoch):\n",
        "  return 1e-3 * (0.9**(epoch/20))\n",
        "  # return 1e-3\n",
        "\n",
        "lr_scheduler = tf.keras.callbacks.LearningRateScheduler(lambda epoch: custom_schedule(epoch))\n",
        "\n",
        "# Fit the model\n",
        "training_history = raw_model.fit(norm_train_data,\n",
        "                            train_labels,\n",
        "                            epochs=epoch_amount,\n",
        "                            validation_data=(norm_test_data, test_labels),\n",
        "                            callbacks=[lr_scheduler])\n"
      ],
      "execution_count": 6,
      "outputs": [
        {
          "output_type": "stream",
          "text": [
            "Epoch 1/10\n",
            "1875/1875 [==============================] - 4s 2ms/step - loss: 1.0472 - accuracy: 0.6442 - val_loss: 0.7344 - val_accuracy: 0.7569\n",
            "Epoch 2/10\n",
            "1875/1875 [==============================] - 3s 2ms/step - loss: 0.6971 - accuracy: 0.7718 - val_loss: 0.6814 - val_accuracy: 0.7862\n",
            "Epoch 3/10\n",
            "1875/1875 [==============================] - 3s 2ms/step - loss: 0.6436 - accuracy: 0.7994 - val_loss: 0.6280 - val_accuracy: 0.8115\n",
            "Epoch 4/10\n",
            "1875/1875 [==============================] - 3s 2ms/step - loss: 0.6130 - accuracy: 0.8124 - val_loss: 0.6028 - val_accuracy: 0.8218\n",
            "Epoch 5/10\n",
            "1875/1875 [==============================] - 3s 2ms/step - loss: 0.5925 - accuracy: 0.8202 - val_loss: 0.5932 - val_accuracy: 0.8229\n",
            "Epoch 6/10\n",
            "1875/1875 [==============================] - 3s 2ms/step - loss: 0.5756 - accuracy: 0.8271 - val_loss: 0.5821 - val_accuracy: 0.8272\n",
            "Epoch 7/10\n",
            "1875/1875 [==============================] - 3s 2ms/step - loss: 0.5630 - accuracy: 0.8314 - val_loss: 0.5825 - val_accuracy: 0.8276\n",
            "Epoch 8/10\n",
            "1875/1875 [==============================] - 3s 2ms/step - loss: 0.5539 - accuracy: 0.8357 - val_loss: 0.5637 - val_accuracy: 0.8368\n",
            "Epoch 9/10\n",
            "1875/1875 [==============================] - 3s 2ms/step - loss: 0.5455 - accuracy: 0.8379 - val_loss: 0.5601 - val_accuracy: 0.8389\n",
            "Epoch 10/10\n",
            "1875/1875 [==============================] - 3s 2ms/step - loss: 0.5390 - accuracy: 0.8390 - val_loss: 0.5542 - val_accuracy: 0.8393\n"
          ],
          "name": "stdout"
        }
      ]
    },
    {
      "cell_type": "code",
      "metadata": {
        "colab": {
          "base_uri": "https://localhost:8080/"
        },
        "id": "a7hNVoSwzd4S",
        "outputId": "d02a09e0-1e71-4ca5-81d7-181d4fc406b0"
      },
      "source": [
        "tf.argmax(tf.squeeze(raw_model.predict(norm_test_data[0:1]))), test_labels[0]"
      ],
      "execution_count": 8,
      "outputs": [
        {
          "output_type": "execute_result",
          "data": {
            "text/plain": [
              "(<tf.Tensor: shape=(), dtype=int64, numpy=7>, 7)"
            ]
          },
          "metadata": {
            "tags": []
          },
          "execution_count": 8
        }
      ]
    },
    {
      "cell_type": "markdown",
      "metadata": {
        "id": "q8vsV0cM4GON"
      },
      "source": [
        "**Let us try using convolutions on our models.**\n",
        "\n",
        "For that, we will have the following scheme:\n",
        "\n",
        "Reshaping our data into the suitable input.\n",
        "Inputting the data into our model.\n",
        "Applying convolutions, pooling and activations.\n",
        "\n",
        "Flattening out data.\n",
        "Using dense layers to predict your result."
      ]
    },
    {
      "cell_type": "code",
      "metadata": {
        "id": "D8w4h_j_4pzn"
      },
      "source": [
        "# Create the model\n",
        "from tensorflow.keras.layers import Dense, Activation, Conv2D, InputLayer, MaxPooling2D, Flatten, Dropout\n",
        "\n",
        "\n",
        "model = tf.keras.models.Sequential(name = 'convolution_model')\n",
        "\n",
        "# Input layer. Notice: since convolution in this case requires 4 parameters \n",
        "# (one of them is added by keras by default), we need to transform our input shape\n",
        "# and dataset shapes from 2 dimentions to 3 dimentions (even if this requires adding a \n",
        "# fool 1 at the end of our shape vector, as (N, M, 1).\n",
        "model.add(InputLayer(input_shape=(28, 28, 1)))\n",
        "\n",
        "# Convolution stack. Here we need to specify the filters (number of kernels or filters to be added), \n",
        "# the kernel shape (the shape of our kernels or filters).\n",
        "model.add(Conv2D(16, (2, 2)))\n",
        "model.add(Activation(\"relu\"))\n",
        "model.add(MaxPooling2D(pool_size=(2, 2)))\n",
        "\n",
        "# As usual, deep learning models like to receive processed data in a flattened manner.\n",
        "model.add(Flatten())\n",
        "\n",
        "# Usual dense layers interpretations\n",
        "model.add(Dense(4))\n",
        "model.add(Dense(10))\n",
        "model.add(Activation(\"softmax\"))"
      ],
      "execution_count": 9,
      "outputs": []
    },
    {
      "cell_type": "code",
      "metadata": {
        "id": "OtH1EvZF9ijc"
      },
      "source": [
        "norm_train_data = tf.reshape(norm_train_data, shape=(60000, 28, 28, 1))\n",
        "\n",
        "norm_test_data = tf.reshape(norm_test_data, shape=(10000, 28, 28, 1))"
      ],
      "execution_count": 21,
      "outputs": []
    },
    {
      "cell_type": "code",
      "metadata": {
        "id": "BJUtG8CFHMXg",
        "colab": {
          "base_uri": "https://localhost:8080/"
        },
        "outputId": "4c6fa4dc-f8e0-4891-df5d-3bbfcb8954da"
      },
      "source": [
        "# Let us compile our model\n",
        "\n",
        "model.compile(\n",
        "    loss=tf.keras.losses.SparseCategoricalCrossentropy(),\n",
        "                 optimizer=tf.keras.optimizers.Adam(),\n",
        "                 metrics=[\"accuracy\"]\n",
        ")\n",
        "\n",
        "# Let us not forget to create a learning rate scheduler. For further learning rate analysis, \n",
        "# we shall create a function which will be the base of our scheduler.\n",
        "\n",
        "epoch_amount = 10\n",
        "\n",
        "def custom_schedule(epoch):\n",
        "  return 1e-3 * (0.9**(epoch/20))\n",
        "  # return 1e-3\n",
        "\n",
        "lr_scheduler = tf.keras.callbacks.LearningRateScheduler(lambda epoch: custom_schedule(epoch))\n",
        "\n",
        "\n",
        "# Fit the model training_history = raw_model.fit(norm_train_data,\n",
        "training_history = model.fit(norm_train_data,\n",
        "                            train_labels,\n",
        "                            epochs=epoch_amount,\n",
        "                            validation_data=(norm_test_data, test_labels),\n",
        "                            callbacks=[lr_scheduler])"
      ],
      "execution_count": 22,
      "outputs": [
        {
          "output_type": "stream",
          "text": [
            "Epoch 1/10\n",
            "1875/1875 [==============================] - 21s 11ms/step - loss: 0.6287 - accuracy: 0.8063 - val_loss: 0.3556 - val_accuracy: 0.8996\n",
            "Epoch 2/10\n",
            "1875/1875 [==============================] - 20s 11ms/step - loss: 0.2902 - accuracy: 0.9162 - val_loss: 0.2526 - val_accuracy: 0.9307\n",
            "Epoch 3/10\n",
            "1875/1875 [==============================] - 20s 11ms/step - loss: 0.2231 - accuracy: 0.9334 - val_loss: 0.2080 - val_accuracy: 0.9421\n",
            "Epoch 4/10\n",
            "1875/1875 [==============================] - 21s 11ms/step - loss: 0.1936 - accuracy: 0.9422 - val_loss: 0.1962 - val_accuracy: 0.9438\n",
            "Epoch 5/10\n",
            "1875/1875 [==============================] - 20s 11ms/step - loss: 0.1763 - accuracy: 0.9465 - val_loss: 0.1777 - val_accuracy: 0.9497\n",
            "Epoch 6/10\n",
            "1875/1875 [==============================] - 20s 11ms/step - loss: 0.1648 - accuracy: 0.9503 - val_loss: 0.1734 - val_accuracy: 0.9483\n",
            "Epoch 7/10\n",
            "1875/1875 [==============================] - 20s 10ms/step - loss: 0.1559 - accuracy: 0.9533 - val_loss: 0.1666 - val_accuracy: 0.9514\n",
            "Epoch 8/10\n",
            "1875/1875 [==============================] - 20s 10ms/step - loss: 0.1486 - accuracy: 0.9549 - val_loss: 0.1572 - val_accuracy: 0.9549\n",
            "Epoch 9/10\n",
            "1875/1875 [==============================] - 21s 11ms/step - loss: 0.1414 - accuracy: 0.9580 - val_loss: 0.1553 - val_accuracy: 0.9568\n",
            "Epoch 10/10\n",
            "1875/1875 [==============================] - 20s 11ms/step - loss: 0.1367 - accuracy: 0.9584 - val_loss: 0.1531 - val_accuracy: 0.9552\n"
          ],
          "name": "stdout"
        }
      ]
    },
    {
      "cell_type": "code",
      "metadata": {
        "id": "WBS-_JmgBXZz"
      },
      "source": [
        "# 95% with one convolutional layer!!!!"
      ],
      "execution_count": null,
      "outputs": []
    }
  ]
}